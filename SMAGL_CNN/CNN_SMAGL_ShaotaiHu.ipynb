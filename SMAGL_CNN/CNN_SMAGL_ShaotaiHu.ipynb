{
 "cells": [
  {
   "cell_type": "markdown",
   "id": "1533f294-ec27-48e2-83cc-0d90f9a78d0b",
   "metadata": {},
   "source": [
    "### SMAGL Night Monkey CNN Testing Code ###\n",
    "\n",
    "__Created on Sunday Feb 9 19:00:10 2025__\n",
    "\n",
    "__Shaotai Hu (Primary Developer)__\n",
    "\n",
    "\n",
    "__Noam Aviv (Secondary Developer)__"
   ]
  },
  {
   "cell_type": "markdown",
   "id": "4461e444-8b8b-4dec-ba7f-11c42c599e1b",
   "metadata": {},
   "source": [
    "\n",
    "__References:__\n",
    "\n",
    "\n",
    "Renotte, Nicholas. \"Build a Deep CNN Image Classifier with ANY Images.\" _Youtube_, 25 Apr. 2022, https://www.youtube.com/watch?v=jztwpsIzEGc.\n"
   ]
  },
  {
   "cell_type": "code",
   "execution_count": 1,
   "id": "9c7806a8-032c-4ef4-b4dc-5bbc0700acfa",
   "metadata": {},
   "outputs": [],
   "source": [
    "# packages\n",
    "import tensorflow as tf\n",
    "import os\n",
    "import cv2\n",
    "from matplotlib import pyplot as plt\n",
    "import seaborn as se\n",
    "import numpy as np\n",
    "import warnings\n",
    "import random\n",
    "import pandas as pd"
   ]
  },
  {
   "cell_type": "code",
   "execution_count": 2,
   "id": "5f16aba8-cd64-4c8c-95de-f4d5e38bf474",
   "metadata": {},
   "outputs": [],
   "source": [
    "\"\"\"\n",
    "random selection Noam's idea, re-implemented by Shaotai\n",
    "\n",
    "!!!\n",
    "Note: need to replace the yes and no folders in temp_pics with\n",
    "the yes and no folders in OG_pics everytime manually and delete\n",
    "yes and no folder in train_pics before you RUN this CELL!!\n",
    "!!!\n",
    "\"\"\"\n",
    "folder1 = \"temp_pics/yes\"\n",
    "folder2 = \"temp_pics/no\"\n",
    "\n",
    "images_folder1 = [f for f in os.listdir(folder1) if os.path.isfile(os.path.join(folder1, f))]\n",
    "images_folder2 = [f for f in os.listdir(folder2) if os.path.isfile(os.path.join(folder2, f))]\n",
    "\n",
    "num_samples = 2500\n",
    "\n",
    "sampled_images_folder1 = random.sample(images_folder1, num_samples)\n",
    "sampled_images_folder2 = random.sample(images_folder2, num_samples)\n",
    "\n",
    "output_dir = \"train_pics\"\n",
    "new_folder1 = os.path.join(output_dir, 'yes')\n",
    "new_folder2 = os.path.join(output_dir, 'no')\n",
    "\n",
    "os.makedirs(new_folder1, exist_ok=True)\n",
    "os.makedirs(new_folder2, exist_ok=True)\n",
    "\n",
    "for image in sampled_images_folder1:\n",
    "    src = os.path.join(folder1, image)\n",
    "    dst = os.path.join(new_folder1, image)\n",
    "    os.rename(src, dst)  \n",
    "\n",
    "for image in sampled_images_folder2:\n",
    "    src = os.path.join(folder2, image)\n",
    "    dst = os.path.join(new_folder2, image)\n",
    "    os.rename(src, dst)  "
   ]
  },
  {
   "cell_type": "code",
   "execution_count": 3,
   "id": "57b5ee39-e75e-410e-827d-d3da850831cc",
   "metadata": {},
   "outputs": [],
   "source": [
    "\"\"\"\n",
    "add the interation to skip every 3 images to see if accuracy, loss, and etc is improved\n",
    "- make a function that takes every 4 fourth image in the folders, and puts it into a new yes or no folder\n",
    "- use this new yes or no folder to train the model\n",
    "\"\"\";"
   ]
  },
  {
   "cell_type": "code",
   "execution_count": 4,
   "id": "34bb304c-52f2-47d6-b4a1-ea33f93704c0",
   "metadata": {},
   "outputs": [
    {
     "name": "stdout",
     "output_type": "stream",
     "text": [
      "Found 1333 files belonging to 2 classes.\n"
     ]
    }
   ],
   "source": [
    "# preprocessing 1\n",
    "data = tf.keras.utils.image_dataset_from_directory(\"train_pics\", batch_size = 10)\n",
    "data_list = data.as_numpy_iterator()\n",
    "images_array = data_list.next()"
   ]
  },
  {
   "cell_type": "code",
   "execution_count": 5,
   "id": "c248e4fb-ed76-4aa5-b288-94215e8b0e35",
   "metadata": {},
   "outputs": [
    {
     "data": {
      "text/plain": [
       "134"
      ]
     },
     "execution_count": 5,
     "metadata": {},
     "output_type": "execute_result"
    }
   ],
   "source": [
    "# preprocessing 2\n",
    "scl = images_array[0]\n",
    "factor = scl.max()\n",
    "data = data.map(lambda x, y: (x/factor, y))\n",
    "# To decide split train and test\n",
    "len(data)"
   ]
  },
  {
   "cell_type": "code",
   "execution_count": 6,
   "id": "1ce1eeb1-c191-44e0-b863-5bcbbae3118a",
   "metadata": {},
   "outputs": [
    {
     "data": {
      "text/plain": [
       "'Model # : training size = 80, validation size = 13, test size = 40 (per randomly selected batch)'"
      ]
     },
     "execution_count": 6,
     "metadata": {},
     "output_type": "execute_result"
    }
   ],
   "source": [
    "# train, val, test split\n",
    "train_size = int(len(data)*0.6)\n",
    "val_size = int(len(data)*0.1)\n",
    "test_size = int(len(data)*0.3)\n",
    "tts = f\"Model # : training size = {train_size}, validation size = {val_size}, test size = {test_size} (per randomly selected batch)\"\n",
    "tts"
   ]
  },
  {
   "cell_type": "code",
   "execution_count": 7,
   "id": "bf0a8e74-081b-490b-8b36-f0039a3c2e9c",
   "metadata": {},
   "outputs": [],
   "source": [
    "training = data.take(train_size)\n",
    "valing = data.skip(train_size).take(val_size)\n",
    "testing = data.skip(train_size+val_size).take(test_size)"
   ]
  },
  {
   "cell_type": "code",
   "execution_count": 8,
   "id": "a3665e32-64ea-480e-9d48-e42951bc9edd",
   "metadata": {},
   "outputs": [],
   "source": [
    "# CNN \n",
    "import keras\n",
    "from keras import layers\n",
    "from tensorflow.keras.models import Sequential\n",
    "from tensorflow.keras.layers import Conv2D, MaxPooling2D, Dense, Flatten, Dropout"
   ]
  },
  {
   "cell_type": "code",
   "execution_count": null,
   "id": "f5af7218-f145-449b-a35f-fac9e2942602",
   "metadata": {},
   "outputs": [],
   "source": [
    "model = Sequential()"
   ]
  },
  {
   "cell_type": "code",
   "execution_count": null,
   "id": "46ae30aa-a416-4a5a-bb7b-cdfbb4780a2b",
   "metadata": {},
   "outputs": [],
   "source": [
    "model.add(keras.Input(shape = (256, 256, 3)))\n",
    "\n",
    "model.add(Conv2D(32, (3, 3), 1, activation='relu', padding = 'same'))\n",
    "model.add(Conv2D(32, (3, 3), 1, activation='relu', padding = 'same'))\n",
    "model.add(MaxPooling2D(pool_size=(2, 2)))\n",
    "\n",
    "model.add(Conv2D(64, (3, 3), activation='relu', padding = 'same'))\n",
    "model.add(Conv2D(64, (3, 3), activation='relu', padding = 'same'))\n",
    "model.add(MaxPooling2D(pool_size=(2, 2)))\n",
    "\n",
    "model.add(Conv2D(128, (3, 3), activation='relu', padding = 'same'))\n",
    "model.add(Conv2D(128, (3, 3), activation='relu', padding = 'same'))\n",
    "model.add(MaxPooling2D(pool_size=(2, 2)))\n",
    "\n",
    "model.add(Flatten())\n",
    "\n",
    "model.add(Dense(512, activation = \"relu\"))\n",
    "\n",
    "# To prevent overfitting\n",
    "model.add(Dropout(0.5))\n",
    "\n",
    "model.add(Dense(256, activation='relu'))\n",
    "\n",
    "# since our question is yes or no, we use sigmoid 1 or 0\n",
    "model.add(Dense(1, activation = \"sigmoid\"))"
   ]
  },
  {
   "cell_type": "code",
   "execution_count": null,
   "id": "434b2fcf-dbd8-44b6-bcc0-9484425a62a9",
   "metadata": {},
   "outputs": [],
   "source": [
    "# compiling the model with optimizers, loss functions and metric for evaluation\n",
    "model.compile('adam', loss = tf.losses.BinaryCrossentropy(), metrics=[\"accuracy\"])"
   ]
  },
  {
   "cell_type": "code",
   "execution_count": 12,
   "id": "bdfe8e0f-8687-4549-b09e-b6cd5a171aa4",
   "metadata": {},
   "outputs": [
    {
     "data": {
      "text/html": [
       "<pre style=\"white-space:pre;overflow-x:auto;line-height:normal;font-family:Menlo,'DejaVu Sans Mono',consolas,'Courier New',monospace\"><span style=\"font-weight: bold\">Model: \"sequential\"</span>\n",
       "</pre>\n"
      ],
      "text/plain": [
       "\u001b[1mModel: \"sequential\"\u001b[0m\n"
      ]
     },
     "metadata": {},
     "output_type": "display_data"
    },
    {
     "data": {
      "text/html": [
       "<pre style=\"white-space:pre;overflow-x:auto;line-height:normal;font-family:Menlo,'DejaVu Sans Mono',consolas,'Courier New',monospace\">┏━━━━━━━━━━━━━━━━━━━━━━━━━━━━━━━━━┳━━━━━━━━━━━━━━━━━━━━━━━━┳━━━━━━━━━━━━━━━┓\n",
       "┃<span style=\"font-weight: bold\"> Layer (type)                    </span>┃<span style=\"font-weight: bold\"> Output Shape           </span>┃<span style=\"font-weight: bold\">       Param # </span>┃\n",
       "┡━━━━━━━━━━━━━━━━━━━━━━━━━━━━━━━━━╇━━━━━━━━━━━━━━━━━━━━━━━━╇━━━━━━━━━━━━━━━┩\n",
       "│ conv2d (<span style=\"color: #0087ff; text-decoration-color: #0087ff\">Conv2D</span>)                 │ (<span style=\"color: #00d7ff; text-decoration-color: #00d7ff\">None</span>, <span style=\"color: #00af00; text-decoration-color: #00af00\">256</span>, <span style=\"color: #00af00; text-decoration-color: #00af00\">256</span>, <span style=\"color: #00af00; text-decoration-color: #00af00\">32</span>)   │           <span style=\"color: #00af00; text-decoration-color: #00af00\">896</span> │\n",
       "├─────────────────────────────────┼────────────────────────┼───────────────┤\n",
       "│ max_pooling2d (<span style=\"color: #0087ff; text-decoration-color: #0087ff\">MaxPooling2D</span>)    │ (<span style=\"color: #00d7ff; text-decoration-color: #00d7ff\">None</span>, <span style=\"color: #00af00; text-decoration-color: #00af00\">128</span>, <span style=\"color: #00af00; text-decoration-color: #00af00\">128</span>, <span style=\"color: #00af00; text-decoration-color: #00af00\">32</span>)   │             <span style=\"color: #00af00; text-decoration-color: #00af00\">0</span> │\n",
       "├─────────────────────────────────┼────────────────────────┼───────────────┤\n",
       "│ conv2d_1 (<span style=\"color: #0087ff; text-decoration-color: #0087ff\">Conv2D</span>)               │ (<span style=\"color: #00d7ff; text-decoration-color: #00d7ff\">None</span>, <span style=\"color: #00af00; text-decoration-color: #00af00\">128</span>, <span style=\"color: #00af00; text-decoration-color: #00af00\">128</span>, <span style=\"color: #00af00; text-decoration-color: #00af00\">64</span>)   │        <span style=\"color: #00af00; text-decoration-color: #00af00\">18,496</span> │\n",
       "├─────────────────────────────────┼────────────────────────┼───────────────┤\n",
       "│ max_pooling2d_1 (<span style=\"color: #0087ff; text-decoration-color: #0087ff\">MaxPooling2D</span>)  │ (<span style=\"color: #00d7ff; text-decoration-color: #00d7ff\">None</span>, <span style=\"color: #00af00; text-decoration-color: #00af00\">64</span>, <span style=\"color: #00af00; text-decoration-color: #00af00\">64</span>, <span style=\"color: #00af00; text-decoration-color: #00af00\">64</span>)     │             <span style=\"color: #00af00; text-decoration-color: #00af00\">0</span> │\n",
       "├─────────────────────────────────┼────────────────────────┼───────────────┤\n",
       "│ conv2d_2 (<span style=\"color: #0087ff; text-decoration-color: #0087ff\">Conv2D</span>)               │ (<span style=\"color: #00d7ff; text-decoration-color: #00d7ff\">None</span>, <span style=\"color: #00af00; text-decoration-color: #00af00\">64</span>, <span style=\"color: #00af00; text-decoration-color: #00af00\">64</span>, <span style=\"color: #00af00; text-decoration-color: #00af00\">128</span>)    │        <span style=\"color: #00af00; text-decoration-color: #00af00\">73,856</span> │\n",
       "├─────────────────────────────────┼────────────────────────┼───────────────┤\n",
       "│ max_pooling2d_2 (<span style=\"color: #0087ff; text-decoration-color: #0087ff\">MaxPooling2D</span>)  │ (<span style=\"color: #00d7ff; text-decoration-color: #00d7ff\">None</span>, <span style=\"color: #00af00; text-decoration-color: #00af00\">32</span>, <span style=\"color: #00af00; text-decoration-color: #00af00\">32</span>, <span style=\"color: #00af00; text-decoration-color: #00af00\">128</span>)    │             <span style=\"color: #00af00; text-decoration-color: #00af00\">0</span> │\n",
       "├─────────────────────────────────┼────────────────────────┼───────────────┤\n",
       "│ flatten (<span style=\"color: #0087ff; text-decoration-color: #0087ff\">Flatten</span>)               │ (<span style=\"color: #00d7ff; text-decoration-color: #00d7ff\">None</span>, <span style=\"color: #00af00; text-decoration-color: #00af00\">131072</span>)         │             <span style=\"color: #00af00; text-decoration-color: #00af00\">0</span> │\n",
       "├─────────────────────────────────┼────────────────────────┼───────────────┤\n",
       "│ dense (<span style=\"color: #0087ff; text-decoration-color: #0087ff\">Dense</span>)                   │ (<span style=\"color: #00d7ff; text-decoration-color: #00d7ff\">None</span>, <span style=\"color: #00af00; text-decoration-color: #00af00\">512</span>)            │    <span style=\"color: #00af00; text-decoration-color: #00af00\">67,109,376</span> │\n",
       "├─────────────────────────────────┼────────────────────────┼───────────────┤\n",
       "│ dropout (<span style=\"color: #0087ff; text-decoration-color: #0087ff\">Dropout</span>)               │ (<span style=\"color: #00d7ff; text-decoration-color: #00d7ff\">None</span>, <span style=\"color: #00af00; text-decoration-color: #00af00\">512</span>)            │             <span style=\"color: #00af00; text-decoration-color: #00af00\">0</span> │\n",
       "├─────────────────────────────────┼────────────────────────┼───────────────┤\n",
       "│ dense_1 (<span style=\"color: #0087ff; text-decoration-color: #0087ff\">Dense</span>)                 │ (<span style=\"color: #00d7ff; text-decoration-color: #00d7ff\">None</span>, <span style=\"color: #00af00; text-decoration-color: #00af00\">256</span>)            │       <span style=\"color: #00af00; text-decoration-color: #00af00\">131,328</span> │\n",
       "├─────────────────────────────────┼────────────────────────┼───────────────┤\n",
       "│ dense_2 (<span style=\"color: #0087ff; text-decoration-color: #0087ff\">Dense</span>)                 │ (<span style=\"color: #00d7ff; text-decoration-color: #00d7ff\">None</span>, <span style=\"color: #00af00; text-decoration-color: #00af00\">1</span>)              │           <span style=\"color: #00af00; text-decoration-color: #00af00\">257</span> │\n",
       "└─────────────────────────────────┴────────────────────────┴───────────────┘\n",
       "</pre>\n"
      ],
      "text/plain": [
       "┏━━━━━━━━━━━━━━━━━━━━━━━━━━━━━━━━━┳━━━━━━━━━━━━━━━━━━━━━━━━┳━━━━━━━━━━━━━━━┓\n",
       "┃\u001b[1m \u001b[0m\u001b[1mLayer (type)                   \u001b[0m\u001b[1m \u001b[0m┃\u001b[1m \u001b[0m\u001b[1mOutput Shape          \u001b[0m\u001b[1m \u001b[0m┃\u001b[1m \u001b[0m\u001b[1m      Param #\u001b[0m\u001b[1m \u001b[0m┃\n",
       "┡━━━━━━━━━━━━━━━━━━━━━━━━━━━━━━━━━╇━━━━━━━━━━━━━━━━━━━━━━━━╇━━━━━━━━━━━━━━━┩\n",
       "│ conv2d (\u001b[38;5;33mConv2D\u001b[0m)                 │ (\u001b[38;5;45mNone\u001b[0m, \u001b[38;5;34m256\u001b[0m, \u001b[38;5;34m256\u001b[0m, \u001b[38;5;34m32\u001b[0m)   │           \u001b[38;5;34m896\u001b[0m │\n",
       "├─────────────────────────────────┼────────────────────────┼───────────────┤\n",
       "│ max_pooling2d (\u001b[38;5;33mMaxPooling2D\u001b[0m)    │ (\u001b[38;5;45mNone\u001b[0m, \u001b[38;5;34m128\u001b[0m, \u001b[38;5;34m128\u001b[0m, \u001b[38;5;34m32\u001b[0m)   │             \u001b[38;5;34m0\u001b[0m │\n",
       "├─────────────────────────────────┼────────────────────────┼───────────────┤\n",
       "│ conv2d_1 (\u001b[38;5;33mConv2D\u001b[0m)               │ (\u001b[38;5;45mNone\u001b[0m, \u001b[38;5;34m128\u001b[0m, \u001b[38;5;34m128\u001b[0m, \u001b[38;5;34m64\u001b[0m)   │        \u001b[38;5;34m18,496\u001b[0m │\n",
       "├─────────────────────────────────┼────────────────────────┼───────────────┤\n",
       "│ max_pooling2d_1 (\u001b[38;5;33mMaxPooling2D\u001b[0m)  │ (\u001b[38;5;45mNone\u001b[0m, \u001b[38;5;34m64\u001b[0m, \u001b[38;5;34m64\u001b[0m, \u001b[38;5;34m64\u001b[0m)     │             \u001b[38;5;34m0\u001b[0m │\n",
       "├─────────────────────────────────┼────────────────────────┼───────────────┤\n",
       "│ conv2d_2 (\u001b[38;5;33mConv2D\u001b[0m)               │ (\u001b[38;5;45mNone\u001b[0m, \u001b[38;5;34m64\u001b[0m, \u001b[38;5;34m64\u001b[0m, \u001b[38;5;34m128\u001b[0m)    │        \u001b[38;5;34m73,856\u001b[0m │\n",
       "├─────────────────────────────────┼────────────────────────┼───────────────┤\n",
       "│ max_pooling2d_2 (\u001b[38;5;33mMaxPooling2D\u001b[0m)  │ (\u001b[38;5;45mNone\u001b[0m, \u001b[38;5;34m32\u001b[0m, \u001b[38;5;34m32\u001b[0m, \u001b[38;5;34m128\u001b[0m)    │             \u001b[38;5;34m0\u001b[0m │\n",
       "├─────────────────────────────────┼────────────────────────┼───────────────┤\n",
       "│ flatten (\u001b[38;5;33mFlatten\u001b[0m)               │ (\u001b[38;5;45mNone\u001b[0m, \u001b[38;5;34m131072\u001b[0m)         │             \u001b[38;5;34m0\u001b[0m │\n",
       "├─────────────────────────────────┼────────────────────────┼───────────────┤\n",
       "│ dense (\u001b[38;5;33mDense\u001b[0m)                   │ (\u001b[38;5;45mNone\u001b[0m, \u001b[38;5;34m512\u001b[0m)            │    \u001b[38;5;34m67,109,376\u001b[0m │\n",
       "├─────────────────────────────────┼────────────────────────┼───────────────┤\n",
       "│ dropout (\u001b[38;5;33mDropout\u001b[0m)               │ (\u001b[38;5;45mNone\u001b[0m, \u001b[38;5;34m512\u001b[0m)            │             \u001b[38;5;34m0\u001b[0m │\n",
       "├─────────────────────────────────┼────────────────────────┼───────────────┤\n",
       "│ dense_1 (\u001b[38;5;33mDense\u001b[0m)                 │ (\u001b[38;5;45mNone\u001b[0m, \u001b[38;5;34m256\u001b[0m)            │       \u001b[38;5;34m131,328\u001b[0m │\n",
       "├─────────────────────────────────┼────────────────────────┼───────────────┤\n",
       "│ dense_2 (\u001b[38;5;33mDense\u001b[0m)                 │ (\u001b[38;5;45mNone\u001b[0m, \u001b[38;5;34m1\u001b[0m)              │           \u001b[38;5;34m257\u001b[0m │\n",
       "└─────────────────────────────────┴────────────────────────┴───────────────┘\n"
      ]
     },
     "metadata": {},
     "output_type": "display_data"
    },
    {
     "data": {
      "text/html": [
       "<pre style=\"white-space:pre;overflow-x:auto;line-height:normal;font-family:Menlo,'DejaVu Sans Mono',consolas,'Courier New',monospace\"><span style=\"font-weight: bold\"> Total params: </span><span style=\"color: #00af00; text-decoration-color: #00af00\">67,334,209</span> (256.86 MB)\n",
       "</pre>\n"
      ],
      "text/plain": [
       "\u001b[1m Total params: \u001b[0m\u001b[38;5;34m67,334,209\u001b[0m (256.86 MB)\n"
      ]
     },
     "metadata": {},
     "output_type": "display_data"
    },
    {
     "data": {
      "text/html": [
       "<pre style=\"white-space:pre;overflow-x:auto;line-height:normal;font-family:Menlo,'DejaVu Sans Mono',consolas,'Courier New',monospace\"><span style=\"font-weight: bold\"> Trainable params: </span><span style=\"color: #00af00; text-decoration-color: #00af00\">67,334,209</span> (256.86 MB)\n",
       "</pre>\n"
      ],
      "text/plain": [
       "\u001b[1m Trainable params: \u001b[0m\u001b[38;5;34m67,334,209\u001b[0m (256.86 MB)\n"
      ]
     },
     "metadata": {},
     "output_type": "display_data"
    },
    {
     "data": {
      "text/html": [
       "<pre style=\"white-space:pre;overflow-x:auto;line-height:normal;font-family:Menlo,'DejaVu Sans Mono',consolas,'Courier New',monospace\"><span style=\"font-weight: bold\"> Non-trainable params: </span><span style=\"color: #00af00; text-decoration-color: #00af00\">0</span> (0.00 B)\n",
       "</pre>\n"
      ],
      "text/plain": [
       "\u001b[1m Non-trainable params: \u001b[0m\u001b[38;5;34m0\u001b[0m (0.00 B)\n"
      ]
     },
     "metadata": {},
     "output_type": "display_data"
    }
   ],
   "source": [
    "model.summary()"
   ]
  },
  {
   "cell_type": "code",
   "execution_count": 13,
   "id": "aa90f4c2-3f22-4bd1-a077-b7505d733092",
   "metadata": {},
   "outputs": [],
   "source": [
    "# Training\n",
    "logdir = \"logs\"\n",
    "save_log =  tf.keras.callbacks.TensorBoard(log_dir=logdir)"
   ]
  },
  {
   "cell_type": "code",
   "execution_count": 14,
   "id": "96d11a69-4074-46bc-94c6-35a0d8f9ea8a",
   "metadata": {},
   "outputs": [
    {
     "name": "stdout",
     "output_type": "stream",
     "text": [
      "Epoch 1/12\n",
      "\u001b[1m60/60\u001b[0m \u001b[32m━━━━━━━━━━━━━━━━━━━━\u001b[0m\u001b[37m\u001b[0m \u001b[1m28s\u001b[0m 442ms/step - accuracy: 0.5902 - loss: 0.8438 - val_accuracy: 0.8000 - val_loss: 0.4661\n",
      "Epoch 2/12\n",
      "\u001b[1m60/60\u001b[0m \u001b[32m━━━━━━━━━━━━━━━━━━━━\u001b[0m\u001b[37m\u001b[0m \u001b[1m26s\u001b[0m 432ms/step - accuracy: 0.7563 - loss: 0.4585 - val_accuracy: 0.9375 - val_loss: 0.2147\n",
      "Epoch 3/12\n",
      "\u001b[1m60/60\u001b[0m \u001b[32m━━━━━━━━━━━━━━━━━━━━\u001b[0m\u001b[37m\u001b[0m \u001b[1m27s\u001b[0m 442ms/step - accuracy: 0.8707 - loss: 0.2917 - val_accuracy: 0.9250 - val_loss: 0.2146\n",
      "Epoch 4/12\n",
      "\u001b[1m60/60\u001b[0m \u001b[32m━━━━━━━━━━━━━━━━━━━━\u001b[0m\u001b[37m\u001b[0m \u001b[1m27s\u001b[0m 442ms/step - accuracy: 0.8919 - loss: 0.2613 - val_accuracy: 0.8500 - val_loss: 0.3229\n",
      "Epoch 5/12\n",
      "\u001b[1m60/60\u001b[0m \u001b[32m━━━━━━━━━━━━━━━━━━━━\u001b[0m\u001b[37m\u001b[0m \u001b[1m27s\u001b[0m 438ms/step - accuracy: 0.9014 - loss: 0.2182 - val_accuracy: 0.9375 - val_loss: 0.2878\n",
      "Epoch 6/12\n",
      "\u001b[1m60/60\u001b[0m \u001b[32m━━━━━━━━━━━━━━━━━━━━\u001b[0m\u001b[37m\u001b[0m \u001b[1m27s\u001b[0m 441ms/step - accuracy: 0.9354 - loss: 0.1548 - val_accuracy: 0.9250 - val_loss: 0.4841\n",
      "Epoch 7/12\n",
      "\u001b[1m60/60\u001b[0m \u001b[32m━━━━━━━━━━━━━━━━━━━━\u001b[0m\u001b[37m\u001b[0m \u001b[1m28s\u001b[0m 456ms/step - accuracy: 0.9372 - loss: 0.2002 - val_accuracy: 0.8750 - val_loss: 0.3033\n",
      "Epoch 8/12\n",
      "\u001b[1m60/60\u001b[0m \u001b[32m━━━━━━━━━━━━━━━━━━━━\u001b[0m\u001b[37m\u001b[0m \u001b[1m26s\u001b[0m 432ms/step - accuracy: 0.9429 - loss: 0.1804 - val_accuracy: 0.9875 - val_loss: 0.1366\n",
      "Epoch 9/12\n",
      "\u001b[1m60/60\u001b[0m \u001b[32m━━━━━━━━━━━━━━━━━━━━\u001b[0m\u001b[37m\u001b[0m \u001b[1m24s\u001b[0m 392ms/step - accuracy: 0.9682 - loss: 0.1083 - val_accuracy: 0.9250 - val_loss: 0.2888\n",
      "Epoch 10/12\n",
      "\u001b[1m60/60\u001b[0m \u001b[32m━━━━━━━━━━━━━━━━━━━━\u001b[0m\u001b[37m\u001b[0m \u001b[1m24s\u001b[0m 391ms/step - accuracy: 0.9541 - loss: 0.0897 - val_accuracy: 0.9000 - val_loss: 0.4558\n",
      "Epoch 11/12\n",
      "\u001b[1m60/60\u001b[0m \u001b[32m━━━━━━━━━━━━━━━━━━━━\u001b[0m\u001b[37m\u001b[0m \u001b[1m23s\u001b[0m 384ms/step - accuracy: 0.9817 - loss: 0.0555 - val_accuracy: 0.9500 - val_loss: 0.4834\n",
      "Epoch 12/12\n",
      "\u001b[1m60/60\u001b[0m \u001b[32m━━━━━━━━━━━━━━━━━━━━\u001b[0m\u001b[37m\u001b[0m \u001b[1m24s\u001b[0m 390ms/step - accuracy: 0.9884 - loss: 0.0443 - val_accuracy: 0.9500 - val_loss: 0.0826\n"
     ]
    }
   ],
   "source": [
    "fitted_log = model.fit(training, epochs = 50, validation_data = valing, callbacks = [save_log])"
   ]
  },
  {
   "cell_type": "code",
   "execution_count": 15,
   "id": "fa562816-5367-4623-a129-4f76db9bd95b",
   "metadata": {},
   "outputs": [
    {
     "data": {
      "text/plain": [
       "<matplotlib.legend.Legend at 0x31092fd10>"
      ]
     },
     "execution_count": 15,
     "metadata": {},
     "output_type": "execute_result"
    },
    {
     "data": {
      "image/png": "[encoded data removed]",
      "text/plain": [
       "<Figure size 1000x500 with 2 Axes>"
      ]
     },
     "metadata": {},
     "output_type": "display_data"
    }
   ],
   "source": [
    "# plotting performance \n",
    "fig, axes = plt.subplots(1, 2, figsize =(10, 5))\n",
    "axes[0].plot(fitted_log.history[\"loss\"], color = \"red\", label = \"loss\")\n",
    "axes[1].plot(fitted_log.history[\"accuracy\"], color = \"red\", label = \"accuracy\")\n",
    "axes[0].set_title(\"Loss\")\n",
    "axes[1].set_title(\"Accuracy\");\n",
    "axes[0].legend(loc= \"upper right\")\n",
    "axes[1].legend(loc= \"upper left\")"
   ]
  },
  {
   "cell_type": "code",
   "execution_count": null,
   "id": "8c3004f8-07ef-4eba-b132-a651a62da710",
   "metadata": {},
   "outputs": [],
   "source": [
    "\"\"\"\n",
    "### Testing:\n",
    "not going to test model on test data for now, \n",
    "will just test the model on labeled data\n",
    "and compare predictions to ground truth for accuracy\n",
    "\"\"\";"
   ]
  },
  {
   "cell_type": "code",
   "execution_count": 17,
   "id": "3f80b12f-6ee9-427e-b625-543379186c83",
   "metadata": {},
   "outputs": [],
   "source": [
    "model.save(os.path.join(\"models\", \"CNN_1.keras\"))"
   ]
  },
  {
   "cell_type": "code",
   "execution_count": 19,
   "id": "bfe787c1-5130-4d11-9d91-06d9210b96fd",
   "metadata": {},
   "outputs": [],
   "source": [
    "from tensorflow.keras.models import load_model\n",
    "loaded_model = load_model(os.path.join(\"models\", \"CNN_1.keras\"))"
   ]
  },
  {
   "cell_type": "code",
   "execution_count": 20,
   "id": "0c2d5346-76f3-4e68-b77a-f00f735d0b2c",
   "metadata": {},
   "outputs": [],
   "source": [
    "# preprocessing 1\n",
    "folder_path = 'OG_pics'\n",
    "\n",
    "yes_folder = os.path.join(folder_path, 'yes')\n",
    "no_folder = os.path.join(folder_path, 'no')\n",
    "\n",
    "yes_images = [f for f in os.listdir(yes_folder) if f.lower().endswith(('.jpg'))]\n",
    "no_images = [f for f in os.listdir(no_folder) if f.lower().endswith(('.jpg'))]\n",
    "\n",
    "data = [(img, 'yes') for img in yes_images] + [(img, 'no') for img in no_images]\n",
    "\n",
    "df = pd.DataFrame(data, columns=['Image Name', 'Label'])"
   ]
  },
  {
   "cell_type": "code",
   "execution_count": null,
   "id": "63573703-239a-4cc7-ae29-366f4b01d7f5",
   "metadata": {},
   "outputs": [],
   "source": [
    "\"\"\"\n",
    "text extraction\n",
    "\"\"\"\n",
    "from PIL import Image\n",
    "import pytesseract\n",
    "\n",
    "extracted_text = []\n",
    "folder_path = \"OG_pics/all\"\n",
    "\n",
    "for filename in df[\"Image Name\"]:\n",
    "    image_path = os.path.join(folder_path, filename)\n",
    "    if os.path.exists(image_path):\n",
    "        img = Image.open(image_path)\n",
    "        width, height = img.size\n",
    "        crop_area = (0, int(3 * height /4 ), width, height)\n",
    "        cropped_img = img.crop(crop_area)\n",
    "        text = pytesseract.image_to_string(cropped_img)\n",
    "        extracted_text.append(text)\n",
    "    else:\n",
    "        extracted_text.append(\"\")\n",
    "df[\"Extracted Text\"] = extracted_text"
   ]
  },
  {
   "cell_type": "code",
   "execution_count": null,
   "id": "dccf62fd-6b8c-44d9-9745-cf7f6a9fc3bf",
   "metadata": {},
   "outputs": [],
   "source": [
    "folder_path = 'OG_pics/all'\n",
    "predictions = []\n",
    "for filename in df['Image Name']:  \n",
    "    image_path = os.path.join(folder_path, filename)\n",
    "    if os.path.exists(image_path):  \n",
    "        picture = cv2.imread(image_path)\n",
    "        un_pic = tf.image.resize(picture, (256, 256))\n",
    "        prediction = loaded_model.predict(np.expand_dims(un_pic / 255, 0))\n",
    "        if prediction < 0.5:\n",
    "            predictions.append(\"no\")\n",
    "        else:\n",
    "            predictions.append(\"yes\")\n",
    "    else:\n",
    "        predictions.append(\"\")  \n",
    "df['Predictions'] = predictions)"
   ]
  },
  {
   "cell_type": "code",
   "execution_count": null,
   "id": "9e4060b5-9910-46c9-8b4e-7ce77ab181da",
   "metadata": {},
   "outputs": [],
   "source": [
    "print(df.to_string())"
   ]
  },
  {
   "cell_type": "code",
   "execution_count": 26,
   "id": "dc543b19-99a5-41e6-a266-030f75deff5f",
   "metadata": {},
   "outputs": [],
   "source": [
    "# save as csv file \n",
    "def save_dataframe_to_csv(df, filename):\n",
    "    current_directory = os.getcwd()\n",
    "    file_path = os.path.join(current_directory, filename)\n",
    "    df.to_csv(file_path, index=False)\n",
    "\n",
    "save_dataframe_to_csv(df, 'file_name.csv')"
   ]
  },
  {
   "cell_type": "code",
   "execution_count": 22,
   "id": "b7ed1209-27da-4798-8d89-30a1fbbb5d48",
   "metadata": {},
   "outputs": [
    {
     "name": "stdout",
     "output_type": "stream",
     "text": [
      "model raw accuracy: 91.7945%\n"
     ]
    }
   ],
   "source": [
    "def calculate_accuracy(df):\n",
    "    correct_predictions = (df['Label'] == df['Predictions']).sum()\n",
    "    \n",
    "    accuracy = correct_predictions / len(df) \n",
    "    \n",
    "    return accuracy\n",
    "\n",
    "accuracy = calculate_accuracy(df)\n",
    "print(f\"model raw accuracy: {np.round(accuracy,6)*100}%\")\n",
    "# last run was 96.5909%"
   ]
  }
 ],
 "metadata": {
  "kernelspec": {
   "display_name": "Python 3 (ipykernel)",
   "language": "python",
   "name": "python3"
  },
  "language_info": {
   "codemirror_mode": {
    "name": "ipython",
    "version": 3
   },
   "file_extension": ".py",
   "mimetype": "text/x-python",
   "name": "python",
   "nbconvert_exporter": "python",
   "pygments_lexer": "ipython3",
   "version": "3.12.4"
  }
 },
 "nbformat": 4,
 "nbformat_minor": 5
}
